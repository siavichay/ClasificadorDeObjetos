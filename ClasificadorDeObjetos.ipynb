{
 "cells": [
  {
   "cell_type": "markdown",
   "metadata": {},
   "source": [
    "# Universidad Politécnica Salesiana\n",
    "## Entrenamiento de una red neuronal: clasificación básica\n",
    "## Clasificación de objetos\n",
    "### Por Alexander Siavichay\n",
    "\n",
    "Disponible: https://github.com/siavichay/ClasificadorDeObjetos/blob/master/ClasificadorDeObjetos.ipynb\n",
    "\n",
    "En este libro de Python se presenta una clasificación de 10 dígitos escritos a mano utilizando un perceptrón y luego se utilizara el mismo modelo de red neuronal para determinar 10 clases de objetos y comparar los resultados.\n",
    "\n",
    "\n",
    "El entrenamiento de la red se lleva a cabo utilizando una API de alto-nivel llamada *tf.keras* que está diseñada para entrenar modelos en TensorFlow.\n",
    "\n",
    "Prerequisitos\n",
    "\n",
    "- numpy\n",
    "- matplotlib\n",
    "- pickle\n",
    "- keras.utils\n",
    "- tensorflow"
   ]
  },
  {
   "cell_type": "markdown",
   "metadata": {},
   "source": [
    "## Clasificador de digitos (0-9)\n",
    "\n",
    "### Data\n",
    "    https://www.kaggle.com/c/Kannada-MNIST/data"
   ]
  },
  {
   "cell_type": "code",
   "execution_count": 41,
   "metadata": {},
   "outputs": [
    {
     "data": {
      "text/plain": [
       "array([[0., 0., 0., ..., 0., 0., 0.],\n",
       "       [1., 0., 0., ..., 0., 0., 0.],\n",
       "       [2., 0., 0., ..., 0., 0., 0.],\n",
       "       ...,\n",
       "       [7., 0., 0., ..., 0., 0., 0.],\n",
       "       [8., 0., 0., ..., 0., 0., 0.],\n",
       "       [9., 0., 0., ..., 0., 0., 0.]])"
      ]
     },
     "execution_count": 41,
     "metadata": {},
     "output_type": "execute_result"
    }
   ],
   "source": [
    "%matplotlib inline\n",
    "import numpy as np\n",
    "import matplotlib.pyplot as plt\n",
    "\n",
    "image_size = 28 # width and length\n",
    "no_of_different_labels = 10 #  i.e. 0, 1, 2, 3, ..., 9\n",
    "image_pixels = image_size * image_size\n",
    "data_path = \"Kannada-MNIST/\"\n",
    "train_data = np.loadtxt(data_path + \"train.csv\", delimiter=\",\",skiprows=1)\n",
    "test_data = np.loadtxt(data_path + \"Dig-MNIST.csv\", delimiter=\",\",skiprows=1) \n",
    "test_data[:10]"
   ]
  },
  {
   "cell_type": "code",
   "execution_count": 5,
   "metadata": {},
   "outputs": [
    {
     "data": {
      "text/plain": [
       "(5000, 785)"
      ]
     },
     "execution_count": 5,
     "metadata": {},
     "output_type": "execute_result"
    }
   ],
   "source": [
    "test_data[test_data==255]\n",
    "test_data.shape"
   ]
  },
  {
   "cell_type": "code",
   "execution_count": 42,
   "metadata": {},
   "outputs": [],
   "source": [
    "fac = 0.99 / 255\n",
    "train_imgs = np.asfarray(train_data[:, 1:]) * fac + 0.01\n",
    "test_imgs = np.asfarray(test_data[:, 1:]) * fac + 0.01\n",
    "\n",
    "train_labels = np.asfarray(train_data[:, :1])\n",
    "test_labels = np.asfarray(test_data[:, :1])"
   ]
  },
  {
   "cell_type": "code",
   "execution_count": 7,
   "metadata": {},
   "outputs": [
    {
     "name": "stdout",
     "output_type": "stream",
     "text": [
      "label:  0  in one-hot representation:  [1 0 0 0 0 0 0 0 0 0]\n",
      "label:  1  in one-hot representation:  [0 1 0 0 0 0 0 0 0 0]\n",
      "label:  2  in one-hot representation:  [0 0 1 0 0 0 0 0 0 0]\n",
      "label:  3  in one-hot representation:  [0 0 0 1 0 0 0 0 0 0]\n",
      "label:  4  in one-hot representation:  [0 0 0 0 1 0 0 0 0 0]\n",
      "label:  5  in one-hot representation:  [0 0 0 0 0 1 0 0 0 0]\n",
      "label:  6  in one-hot representation:  [0 0 0 0 0 0 1 0 0 0]\n",
      "label:  7  in one-hot representation:  [0 0 0 0 0 0 0 1 0 0]\n",
      "label:  8  in one-hot representation:  [0 0 0 0 0 0 0 0 1 0]\n",
      "label:  9  in one-hot representation:  [0 0 0 0 0 0 0 0 0 1]\n"
     ]
    }
   ],
   "source": [
    "lr = np.arange(10)\n",
    "\n",
    "for label in range(10):\n",
    "    one_hot = (lr==label).astype(np.int)\n",
    "    print(\"label: \", label, \" in one-hot representation: \", one_hot)"
   ]
  },
  {
   "cell_type": "code",
   "execution_count": 8,
   "metadata": {},
   "outputs": [],
   "source": [
    "lr = np.arange(no_of_different_labels)\n",
    "\n",
    "# transform labels into one hot representation\n",
    "train_labels_one_hot = (lr==train_labels).astype(np.float)\n",
    "test_labels_one_hot = (lr==test_labels).astype(np.float)\n",
    "\n",
    "# we don't want zeroes and ones in the labels neither:\n",
    "train_labels_one_hot[train_labels_one_hot==0] = 0.01\n",
    "train_labels_one_hot[train_labels_one_hot==1] = 0.99\n",
    "test_labels_one_hot[test_labels_one_hot==0] = 0.01\n",
    "test_labels_one_hot[test_labels_one_hot==1] = 0.99"
   ]
  },
  {
   "cell_type": "code",
   "execution_count": 17,
   "metadata": {},
   "outputs": [
    {
     "data": {
      "image/png": "[encoded data removed]",
      "text/plain": [
       "<Figure size 432x288 with 1 Axes>"
      ]
     },
     "metadata": {
      "needs_background": "light"
     },
     "output_type": "display_data"
    },
    {
     "data": {
      "image/png": "[encoded data removed]",
      "text/plain": [
       "<Figure size 432x288 with 1 Axes>"
      ]
     },
     "metadata": {
      "needs_background": "light"
     },
     "output_type": "display_data"
    },
    {
     "data": {
      "image/png": "[encoded data removed]",
      "text/plain": [
       "<Figure size 432x288 with 1 Axes>"
      ]
     },
     "metadata": {
      "needs_background": "light"
     },
     "output_type": "display_data"
    },
    {
     "data": {
      "image/png": "[encoded data removed]",
      "text/plain": [
       "<Figure size 432x288 with 1 Axes>"
      ]
     },
     "metadata": {
      "needs_background": "light"
     },
     "output_type": "display_data"
    },
    {
     "data": {
      "image/png": "[encoded data removed]",
      "text/plain": [
       "<Figure size 432x288 with 1 Axes>"
      ]
     },
     "metadata": {
      "needs_background": "light"
     },
     "output_type": "display_data"
    },
    {
     "data": {
      "image/png": "[encoded data removed]",
      "text/plain": [
       "<Figure size 432x288 with 1 Axes>"
      ]
     },
     "metadata": {
      "needs_background": "light"
     },
     "output_type": "display_data"
    },
    {
     "data": {
      "image/png": "[encoded data removed]",
      "text/plain": [
       "<Figure size 432x288 with 1 Axes>"
      ]
     },
     "metadata": {
      "needs_background": "light"
     },
     "output_type": "display_data"
    },
    {
     "data": {
      "image/png": "[encoded data removed]",
      "text/plain": [
       "<Figure size 432x288 with 1 Axes>"
      ]
     },
     "metadata": {
      "needs_background": "light"
     },
     "output_type": "display_data"
    },
    {
     "data": {
      "image/png": "[encoded data removed]",
      "text/plain": [
       "<Figure size 432x288 with 1 Axes>"
      ]
     },
     "metadata": {
      "needs_background": "light"
     },
     "output_type": "display_data"
    },
    {
     "data": {
      "image/png": "[encoded data removed]",
      "text/plain": [
       "<Figure size 432x288 with 1 Axes>"
      ]
     },
     "metadata": {
      "needs_background": "light"
     },
     "output_type": "display_data"
    }
   ],
   "source": [
    "for i in range(10):\n",
    "    img = train_imgs[i].reshape((28,28))\n",
    "    plt.imshow(img, cmap=\"Greys\")\n",
    "    plt.show()"
   ]
  },
  {
   "cell_type": "code",
   "execution_count": 11,
   "metadata": {},
   "outputs": [],
   "source": [
    "import pickle\n",
    "\n",
    "with open(\"Kannada-MNIST/pickled_mnist.pkl\", \"bw\") as fh:\n",
    "    data = (train_imgs, \n",
    "            test_imgs, \n",
    "            train_labels,\n",
    "            test_labels,\n",
    "            train_labels_one_hot,\n",
    "            test_labels_one_hot)\n",
    "    pickle.dump(data, fh)"
   ]
  },
  {
   "cell_type": "markdown",
   "metadata": {},
   "source": [
    "### Modelo de Red"
   ]
  },
  {
   "cell_type": "code",
   "execution_count": 13,
   "metadata": {},
   "outputs": [],
   "source": [
    "# TensorFlow y tf.keras\n",
    "import tensorflow as tf\n",
    "from tensorflow import keras\n",
    "\n",
    "model = keras.Sequential([\n",
    "    keras.layers.Flatten(input_shape=(28, 28)),\n",
    "    keras.layers.Dense(128, activation=tf.nn.relu),\n",
    "    keras.layers.Dense(10, activation=tf.nn.softmax)\n",
    "])"
   ]
  },
  {
   "cell_type": "code",
   "execution_count": 23,
   "metadata": {},
   "outputs": [],
   "source": [
    "model.compile(optimizer=tf.train.AdamOptimizer(),\n",
    "             loss='sparse_categorical_crossentropy',\n",
    "             metrics=['accuracy'])"
   ]
  },
  {
   "cell_type": "code",
   "execution_count": 28,
   "metadata": {},
   "outputs": [
    {
     "name": "stdout",
     "output_type": "stream",
     "text": [
      "(60000, 28, 28)\n",
      "(5000, 784)\n"
     ]
    }
   ],
   "source": [
    "train_imgsRS=train_imgs.reshape(60000,28,28)\n",
    "print(train_imgsRS.shape)\n",
    "print(test_imgs.shape)"
   ]
  },
  {
   "cell_type": "markdown",
   "metadata": {},
   "source": [
    "### Entrenamiento"
   ]
  },
  {
   "cell_type": "code",
   "execution_count": 25,
   "metadata": {},
   "outputs": [
    {
     "name": "stdout",
     "output_type": "stream",
     "text": [
      "Train on 48000 samples, validate on 12000 samples\n",
      "Epoch 1/10\n",
      " - 3s - loss: 0.0123 - acc: 0.9964 - val_loss: 0.0566 - val_acc: 0.9838\n",
      "Epoch 2/10\n",
      " - 3s - loss: 0.0083 - acc: 0.9978 - val_loss: 0.0751 - val_acc: 0.9808\n",
      "Epoch 3/10\n",
      " - 3s - loss: 0.0072 - acc: 0.9980 - val_loss: 0.0647 - val_acc: 0.9832\n",
      "Epoch 4/10\n",
      " - 3s - loss: 0.0048 - acc: 0.9988 - val_loss: 0.0719 - val_acc: 0.9824\n",
      "Epoch 5/10\n",
      " - 3s - loss: 0.0039 - acc: 0.9991 - val_loss: 0.0580 - val_acc: 0.9862\n",
      "Epoch 6/10\n",
      " - 3s - loss: 0.0036 - acc: 0.9989 - val_loss: 0.0644 - val_acc: 0.9848\n",
      "Epoch 7/10\n",
      " - 3s - loss: 0.0039 - acc: 0.9989 - val_loss: 0.0663 - val_acc: 0.9854\n",
      "Epoch 8/10\n",
      " - 3s - loss: 0.0023 - acc: 0.9995 - val_loss: 0.0671 - val_acc: 0.9847\n",
      "Epoch 9/10\n",
      " - 3s - loss: 0.0016 - acc: 0.9995 - val_loss: 0.0677 - val_acc: 0.9852\n",
      "Epoch 10/10\n",
      " - 3s - loss: 0.0034 - acc: 0.9990 - val_loss: 0.0669 - val_acc: 0.9848\n"
     ]
    },
    {
     "data": {
      "text/plain": [
       "<tensorflow.python.keras.callbacks.History at 0x18e0bb22f98>"
      ]
     },
     "execution_count": 25,
     "metadata": {},
     "output_type": "execute_result"
    }
   ],
   "source": [
    "model.fit(train_imgsRS, train_labels, epochs=10, batch_size=32, verbose=2, validation_split=0.2)"
   ]
  },
  {
   "cell_type": "code",
   "execution_count": 47,
   "metadata": {},
   "outputs": [
    {
     "name": "stdout",
     "output_type": "stream",
     "text": [
      "(10240, 784)\n"
     ]
    }
   ],
   "source": [
    "print(test_imgs.shape)"
   ]
  },
  {
   "cell_type": "code",
   "execution_count": 48,
   "metadata": {},
   "outputs": [
    {
     "name": "stdout",
     "output_type": "stream",
     "text": [
      "10240/10240 [==============================] - 0s 34us/sample - loss: 3.5694 - acc: 0.6561\n"
     ]
    }
   ],
   "source": [
    "#train_imgsRS=train_imgs.reshape(60000,28,28)\n",
    "test_loss, test_acc = model.evaluate(test_imgs.reshape(10240, 28,28), test_labels)"
   ]
  },
  {
   "cell_type": "code",
   "execution_count": 50,
   "metadata": {},
   "outputs": [
    {
     "name": "stdout",
     "output_type": "stream",
     "text": [
      "0\n",
      "[0.]\n",
      "--\n",
      "1\n",
      "[1.]\n",
      "--\n",
      "2\n",
      "[2.]\n",
      "--\n",
      "3\n",
      "[3.]\n",
      "--\n",
      "4\n",
      "[4.]\n",
      "--\n",
      "5\n",
      "[5.]\n",
      "--\n",
      "6\n",
      "[6.]\n",
      "--\n",
      "7\n",
      "[7.]\n",
      "--\n",
      "8\n",
      "[8.]\n",
      "--\n",
      "9\n",
      "[9.]\n",
      "--\n"
     ]
    }
   ],
   "source": [
    "for x in range(0,10):\n",
    "    predicciones=model.predict(test_imgs.reshape(10240, 28,28))\n",
    "    predicciones[x]\n",
    "    #print(predicciones[x])\n",
    "    a=np.argmax(predicciones[x])\n",
    "    print(a)\n",
    "    print(test_labels[x])\n",
    "    print(\"--\")"
   ]
  },
  {
   "cell_type": "markdown",
   "metadata": {},
   "source": [
    "## Clasificador de Objetos"
   ]
  },
  {
   "cell_type": "markdown",
   "metadata": {},
   "source": [
    "### Dataset\n",
    "https://www.cs.toronto.edu/~kriz/cifar.html"
   ]
  },
  {
   "cell_type": "code",
   "execution_count": 76,
   "metadata": {},
   "outputs": [],
   "source": [
    "from IPython.display import Image\n",
    "from IPython.display import display\n",
    "\n",
    "# inline plotting instead of popping out\n",
    "%matplotlib inline\n",
    "\n",
    "# load utility classes/functions that has been taught in previous labs\n",
    "# e.g., plot_decision_regions()\n",
    "import os, sys\n",
    "module_path = os.path.abspath(os.path.join('.'))\n",
    "sys.path.append(module_path)\n",
    "from lib import *"
   ]
  },
  {
   "cell_type": "code",
   "execution_count": 77,
   "metadata": {},
   "outputs": [],
   "source": [
    "# dataset path\n",
    "home = os.path.expanduser('~')\n",
    "data_path = os.path.join(home, \"Documents\\Maestria\\IIICICLO\\ProcesamientoDigitalDeSenales\\ReconocimientoDePatrones\\ClasificadorDeObjetos\")\n",
    "\n",
    "\n",
    "# CIFAR-10 constants\n",
    "img_size = 32\n",
    "img_channels = 3\n",
    "nb_classes = 10\n",
    "# length of the image after we flatten the image into a 1-D array\n",
    "img_size_flat = img_size * img_size * img_channels\n",
    "nb_files_train = 5\n",
    "images_per_file = 10000\n",
    "# number of all the images in the training dataset\n",
    "nb_images_train = nb_files_train * images_per_file"
   ]
  },
  {
   "cell_type": "code",
   "execution_count": 78,
   "metadata": {},
   "outputs": [],
   "source": [
    "import _pickle as pickle\n",
    "from keras.utils import np_utils\n",
    "import numpy as np\n",
    "\n",
    "def load_data(file_name):\n",
    "    file_path = os.path.join(data_path, \"cifar-10-batches-py/\", file_name)\n",
    "    \n",
    "    print('Loading ' + file_name)\n",
    "    with open(file_path, mode='rb') as file:    \n",
    "        data = pickle.load(file, encoding='bytes')\n",
    "    raw_images = data[b'data']\n",
    "    cls = np.array(data[b'labels'])\n",
    "    \n",
    "    images = raw_images.reshape([-1, img_channels, img_size, img_size])    \n",
    "    # move the channel dimension to the last\n",
    "    images = np.rollaxis(images, 1, 4)\n",
    "    \n",
    "    return images, cls\n",
    "\n",
    "def load_training_data():    \n",
    "    # pre-allocate the arrays for the images and class-numbers for efficiency.\n",
    "    images = np.zeros(shape=[nb_images_train, img_size, img_size, img_channels], \n",
    "                      dtype=int)\n",
    "    cls = np.zeros(shape=[nb_images_train], dtype=int)\n",
    "    \n",
    "    begin = 0\n",
    "    for i in range(nb_files_train):\n",
    "        images_batch, cls_batch = load_data(file_name=\"data_batch_\" + str(i + 1))\n",
    "        num_images = len(images_batch)\n",
    "        end = begin + num_images\n",
    "        images[begin:end, :] = images_batch\n",
    "        cls[begin:end] = cls_batch\n",
    "        begin = end\n",
    "        \n",
    "    return images, np_utils.to_categorical(cls, nb_classes)\n",
    "\n",
    "def load_test_data():\n",
    "    images, cls = load_data(file_name=\"test_batch\")\n",
    "    \n",
    "    return images, np_utils.to_categorical(cls, nb_classes)\n",
    "\n",
    "def load_cifar():\n",
    "    X_train, Y_train = load_training_data()\n",
    "    X_test, Y_test = load_test_data()\n",
    "    \n",
    "    return X_train, Y_train, X_test, Y_test"
   ]
  },
  {
   "cell_type": "code",
   "execution_count": 79,
   "metadata": {},
   "outputs": [
    {
     "name": "stdout",
     "output_type": "stream",
     "text": [
      "Loading data_batch_1\n",
      "Loading data_batch_2\n",
      "Loading data_batch_3\n",
      "Loading data_batch_4\n",
      "Loading data_batch_5\n",
      "Loading test_batch\n",
      "\n",
      "X_train shape: (50000, 32, 32, 3)\n",
      "Y_train shape: (50000, 10)\n",
      "X_test shape: (10000, 32, 32, 3)\n",
      "Y_test shape: (10000, 10)\n"
     ]
    }
   ],
   "source": [
    "\n",
    "\n",
    "X_train, Y_train, X_test, Y_test = load_cifar()\n",
    "\n",
    "print('\\nX_train shape:', X_train.shape)\n",
    "print('Y_train shape:', Y_train.shape)\n",
    "print('X_test shape:', X_test.shape)\n",
    "print('Y_test shape:', Y_test.shape)\n",
    "\n"
   ]
  },
  {
   "cell_type": "code",
   "execution_count": 80,
   "metadata": {},
   "outputs": [],
   "source": [
    "# normalize inputs from 0-255 to 0.0-1.0\n",
    "X_train = X_train.astype('float32')\n",
    "X_test = X_test.astype('float32')\n",
    "X_train = X_train / 255.0\n",
    "X_test = X_test / 255.0"
   ]
  },
  {
   "cell_type": "code",
   "execution_count": 116,
   "metadata": {},
   "outputs": [
    {
     "data": {
      "image/png": "[encoded data removed]",
      "text/plain": [
       "<Figure size 288x144 with 2 Axes>"
      ]
     },
     "metadata": {
      "needs_background": "light"
     },
     "output_type": "display_data"
    }
   ],
   "source": [
    "import matplotlib.pyplot as plt\n",
    "\n",
    "def grayscale(data, dtype='float32'):\n",
    "    # luma coding weighted average in video systems\n",
    "    r, g, b = np.asarray(.3, dtype=dtype), np.asarray(.59, dtype=dtype), np.asarray(.11, dtype=dtype)\n",
    "    rst = r * data[:, :, :, 0] + g * data[:, :, :, 1] + b * data[:, :, :, 2]\n",
    "    # add channel dimension\n",
    "    rst = np.expand_dims(rst, axis=3)\n",
    "    return rst\n",
    "\n",
    "X_train_gray = grayscale(X_train)\n",
    "X_test_gray = grayscale(X_test)\n",
    "\n",
    "# now we have only one channel in the images\n",
    "img_channels = 1\n",
    "\n",
    "# plot a randomly chosen image\n",
    "img = 90\n",
    "plt.figure(figsize=(4, 2))\n",
    "plt.subplot(1, 2, 1)\n",
    "plt.imshow(X_train[img], interpolation='none')\n",
    "plt.subplot(1, 2, 2)\n",
    "plt.imshow(X_train_gray[img, :, :, 0], cmap=plt.get_cmap('gray'), interpolation='none')\n",
    "plt.show()"
   ]
  },
  {
   "cell_type": "code",
   "execution_count": 7,
   "metadata": {},
   "outputs": [
    {
     "name": "stdout",
     "output_type": "stream",
     "text": [
      "X_train_gray shape: (40000, 32, 32, 1)\n",
      "X_val_gray shape: (10000, 32, 32, 1)\n"
     ]
    }
   ],
   "source": [
    "from sklearn.model_selection import train_test_split\n",
    "\n",
    "X_train_gray, X_val_gray, Y_train, Y_val = train_test_split(X_train_gray, Y_train, test_size=0.2, random_state=0)\n",
    "\n",
    "print('X_train_gray shape:', X_train_gray.shape)\n",
    "print('X_val_gray shape:', X_val_gray.shape)"
   ]
  },
  {
   "cell_type": "markdown",
   "metadata": {},
   "source": [
    "###  Modelo\n",
    "Se utilizara el mismo modelo anterior, pero la matriz de labels es diferente, por lo que se utilizará 'categorical_crossentropy'"
   ]
  },
  {
   "cell_type": "code",
   "execution_count": 113,
   "metadata": {},
   "outputs": [],
   "source": [
    "# TensorFlow y tf.keras\n",
    "import tensorflow as tf\n",
    "from tensorflow import keras\n",
    "\n",
    "model = keras.Sequential([\n",
    "    keras.layers.Flatten(input_shape=(32, 32)),\n",
    "    keras.layers.Dense(128, activation=tf.nn.relu),\n",
    "    keras.layers.Dense(10, activation=tf.nn.softmax)\n",
    "])\n"
   ]
  },
  {
   "cell_type": "code",
   "execution_count": 44,
   "metadata": {},
   "outputs": [],
   "source": [
    "model.compile(optimizer=tf.train.AdamOptimizer(),\n",
    "             loss='categorical_crossentropy',\n",
    "             metrics=['accuracy'])"
   ]
  },
  {
   "cell_type": "code",
   "execution_count": null,
   "metadata": {},
   "outputs": [],
   "source": [
    "\n",
    "X_train_gray.shape=(40000, 32, 32)\n",
    "X_val_gray.shape=(10000, 32, 32)"
   ]
  },
  {
   "cell_type": "code",
   "execution_count": 28,
   "metadata": {},
   "outputs": [
    {
     "name": "stdout",
     "output_type": "stream",
     "text": [
      "(40000, 32, 32)\n",
      "(10000, 32, 32)\n",
      "(40000, 10)\n"
     ]
    }
   ],
   "source": [
    "print(X_train_gray.shape)\n",
    "print(X_val_gray.shape)\n",
    "\n",
    "#Y_train = to_categorical(Y_train, num_classes=10)\n",
    "print(Y_train.shape)"
   ]
  },
  {
   "cell_type": "markdown",
   "metadata": {},
   "source": [
    "### Entrenamiento"
   ]
  },
  {
   "cell_type": "code",
   "execution_count": 45,
   "metadata": {},
   "outputs": [
    {
     "name": "stdout",
     "output_type": "stream",
     "text": [
      "Train on 32000 samples, validate on 8000 samples\n",
      "Epoch 1/100\n",
      " - 3s - loss: 2.1018 - acc: 0.2352 - val_loss: 2.0281 - val_acc: 0.2724\n",
      "Epoch 2/100\n",
      " - 2s - loss: 1.9910 - acc: 0.2855 - val_loss: 1.9810 - val_acc: 0.2911\n",
      "Epoch 3/100\n",
      " - 2s - loss: 1.9275 - acc: 0.3123 - val_loss: 1.9030 - val_acc: 0.3270\n",
      "Epoch 4/100\n",
      " - 2s - loss: 1.8863 - acc: 0.3282 - val_loss: 1.8841 - val_acc: 0.3241\n",
      "Epoch 5/100\n",
      " - 3s - loss: 1.8536 - acc: 0.3427 - val_loss: 1.8669 - val_acc: 0.3405\n",
      "Epoch 6/100\n",
      " - 2s - loss: 1.8286 - acc: 0.3543 - val_loss: 1.8695 - val_acc: 0.3309\n",
      "Epoch 7/100\n",
      " - 2s - loss: 1.8137 - acc: 0.3566 - val_loss: 1.8387 - val_acc: 0.3420\n",
      "Epoch 8/100\n",
      " - 2s - loss: 1.7986 - acc: 0.3618 - val_loss: 1.8230 - val_acc: 0.3524\n",
      "Epoch 9/100\n",
      " - 2s - loss: 1.7839 - acc: 0.3690 - val_loss: 1.8082 - val_acc: 0.3517\n",
      "Epoch 10/100\n",
      " - 2s - loss: 1.7693 - acc: 0.3728 - val_loss: 1.8173 - val_acc: 0.3539\n",
      "Epoch 11/100\n",
      " - 2s - loss: 1.7646 - acc: 0.3733 - val_loss: 1.8100 - val_acc: 0.3520\n",
      "Epoch 12/100\n",
      " - 2s - loss: 1.7555 - acc: 0.3809 - val_loss: 1.8161 - val_acc: 0.3553\n",
      "Epoch 13/100\n",
      " - 2s - loss: 1.7431 - acc: 0.3825 - val_loss: 1.8049 - val_acc: 0.3615\n",
      "Epoch 14/100\n",
      " - 2s - loss: 1.7371 - acc: 0.3866 - val_loss: 1.8132 - val_acc: 0.3610\n",
      "Epoch 15/100\n",
      " - 2s - loss: 1.7348 - acc: 0.3853 - val_loss: 1.8076 - val_acc: 0.3636\n",
      "Epoch 16/100\n",
      " - 2s - loss: 1.7266 - acc: 0.3887 - val_loss: 1.7990 - val_acc: 0.3570\n",
      "Epoch 17/100\n",
      " - 2s - loss: 1.7226 - acc: 0.3867 - val_loss: 1.7807 - val_acc: 0.3671\n",
      "Epoch 18/100\n",
      " - 3s - loss: 1.7137 - acc: 0.3943 - val_loss: 1.7981 - val_acc: 0.3641\n",
      "Epoch 19/100\n",
      " - 2s - loss: 1.7097 - acc: 0.3948 - val_loss: 1.8039 - val_acc: 0.3629\n",
      "Epoch 20/100\n",
      " - 2s - loss: 1.7050 - acc: 0.3961 - val_loss: 1.7905 - val_acc: 0.3650\n",
      "Epoch 21/100\n",
      " - 2s - loss: 1.6969 - acc: 0.4002 - val_loss: 1.7845 - val_acc: 0.3708\n",
      "Epoch 22/100\n",
      " - 2s - loss: 1.6932 - acc: 0.3997 - val_loss: 1.8014 - val_acc: 0.3634\n",
      "Epoch 23/100\n",
      " - 2s - loss: 1.6918 - acc: 0.3985 - val_loss: 1.8108 - val_acc: 0.3610\n",
      "Epoch 24/100\n",
      " - 2s - loss: 1.6920 - acc: 0.4017 - val_loss: 1.7860 - val_acc: 0.3654\n",
      "Epoch 25/100\n",
      " - 2s - loss: 1.6830 - acc: 0.4016 - val_loss: 1.7922 - val_acc: 0.3654\n",
      "Epoch 26/100\n",
      " - 3s - loss: 1.6781 - acc: 0.4047 - val_loss: 1.8187 - val_acc: 0.3600\n",
      "Epoch 27/100\n",
      " - 2s - loss: 1.6745 - acc: 0.4092 - val_loss: 1.7877 - val_acc: 0.3702\n",
      "Epoch 28/100\n",
      " - 2s - loss: 1.6701 - acc: 0.4076 - val_loss: 1.7829 - val_acc: 0.3663\n",
      "Epoch 29/100\n",
      " - 2s - loss: 1.6665 - acc: 0.4086 - val_loss: 1.7892 - val_acc: 0.3704\n",
      "Epoch 30/100\n",
      " - 2s - loss: 1.6669 - acc: 0.4079 - val_loss: 1.7875 - val_acc: 0.3702\n",
      "Epoch 31/100\n",
      " - 3s - loss: 1.6600 - acc: 0.4123 - val_loss: 1.7784 - val_acc: 0.3760\n",
      "Epoch 32/100\n",
      " - 2s - loss: 1.6553 - acc: 0.4137 - val_loss: 1.7760 - val_acc: 0.3717\n",
      "Epoch 33/100\n",
      " - 2s - loss: 1.6518 - acc: 0.4103 - val_loss: 1.8001 - val_acc: 0.3716\n",
      "Epoch 34/100\n",
      " - 2s - loss: 1.6459 - acc: 0.4139 - val_loss: 1.8127 - val_acc: 0.3668\n",
      "Epoch 35/100\n",
      " - 2s - loss: 1.6438 - acc: 0.4124 - val_loss: 1.7884 - val_acc: 0.3696\n",
      "Epoch 36/100\n",
      " - 2s - loss: 1.6425 - acc: 0.4175 - val_loss: 1.8009 - val_acc: 0.3681\n",
      "Epoch 37/100\n",
      " - 2s - loss: 1.6382 - acc: 0.4166 - val_loss: 1.7670 - val_acc: 0.3747\n",
      "Epoch 38/100\n",
      " - 3s - loss: 1.6362 - acc: 0.4175 - val_loss: 1.8055 - val_acc: 0.3716\n",
      "Epoch 39/100\n",
      " - 2s - loss: 1.6339 - acc: 0.4224 - val_loss: 1.8064 - val_acc: 0.3726\n",
      "Epoch 40/100\n",
      " - 2s - loss: 1.6285 - acc: 0.4211 - val_loss: 1.7749 - val_acc: 0.3806\n",
      "Epoch 41/100\n",
      " - 2s - loss: 1.6251 - acc: 0.4232 - val_loss: 1.7981 - val_acc: 0.3711\n",
      "Epoch 42/100\n",
      " - 2s - loss: 1.6245 - acc: 0.4214 - val_loss: 1.7903 - val_acc: 0.3775\n",
      "Epoch 43/100\n",
      " - 2s - loss: 1.6209 - acc: 0.4243 - val_loss: 1.7695 - val_acc: 0.3725\n",
      "Epoch 44/100\n",
      " - 3s - loss: 1.6179 - acc: 0.4248 - val_loss: 1.7837 - val_acc: 0.3742\n",
      "Epoch 45/100\n",
      " - 2s - loss: 1.6119 - acc: 0.4260 - val_loss: 1.7946 - val_acc: 0.3691\n",
      "Epoch 46/100\n",
      " - 2s - loss: 1.6128 - acc: 0.4242 - val_loss: 1.7894 - val_acc: 0.3671\n",
      "Epoch 47/100\n",
      " - 2s - loss: 1.6089 - acc: 0.4280 - val_loss: 1.7914 - val_acc: 0.3728\n",
      "Epoch 48/100\n",
      " - 2s - loss: 1.6054 - acc: 0.4292 - val_loss: 1.7864 - val_acc: 0.3715\n",
      "Epoch 49/100\n",
      " - 2s - loss: 1.6032 - acc: 0.4272 - val_loss: 1.7904 - val_acc: 0.3770\n",
      "Epoch 50/100\n",
      " - 2s - loss: 1.6057 - acc: 0.4285 - val_loss: 1.7954 - val_acc: 0.3750\n",
      "Epoch 51/100\n",
      " - 3s - loss: 1.6008 - acc: 0.4297 - val_loss: 1.7936 - val_acc: 0.3722\n",
      "Epoch 52/100\n",
      " - 2s - loss: 1.5951 - acc: 0.4337 - val_loss: 1.7844 - val_acc: 0.3801\n",
      "Epoch 53/100\n",
      " - 2s - loss: 1.5937 - acc: 0.4342 - val_loss: 1.7926 - val_acc: 0.3677\n",
      "Epoch 54/100\n",
      " - 2s - loss: 1.5890 - acc: 0.4377 - val_loss: 1.7886 - val_acc: 0.3745\n",
      "Epoch 55/100\n",
      " - 2s - loss: 1.5901 - acc: 0.4336 - val_loss: 1.7871 - val_acc: 0.3755\n",
      "Epoch 56/100\n",
      " - 2s - loss: 1.5891 - acc: 0.4346 - val_loss: 1.7986 - val_acc: 0.3710\n",
      "Epoch 57/100\n",
      " - 3s - loss: 1.5898 - acc: 0.4357 - val_loss: 1.7770 - val_acc: 0.3794\n",
      "Epoch 58/100\n",
      " - 3s - loss: 1.5845 - acc: 0.4363 - val_loss: 1.8431 - val_acc: 0.3594\n",
      "Epoch 59/100\n",
      " - 2s - loss: 1.5849 - acc: 0.4358 - val_loss: 1.8113 - val_acc: 0.3699\n",
      "Epoch 60/100\n",
      " - 2s - loss: 1.5776 - acc: 0.4363 - val_loss: 1.8338 - val_acc: 0.3654\n",
      "Epoch 61/100\n",
      " - 3s - loss: 1.5767 - acc: 0.4361 - val_loss: 1.8001 - val_acc: 0.3721\n",
      "Epoch 62/100\n",
      " - 3s - loss: 1.5745 - acc: 0.4410 - val_loss: 1.8056 - val_acc: 0.3715\n",
      "Epoch 63/100\n",
      " - 2s - loss: 1.5731 - acc: 0.4416 - val_loss: 1.7791 - val_acc: 0.3790\n",
      "Epoch 64/100\n",
      " - 3s - loss: 1.5677 - acc: 0.4416 - val_loss: 1.8112 - val_acc: 0.3750\n",
      "Epoch 65/100\n",
      " - 2s - loss: 1.5668 - acc: 0.4398 - val_loss: 1.8198 - val_acc: 0.3789\n",
      "Epoch 66/100\n",
      " - 2s - loss: 1.5688 - acc: 0.4408 - val_loss: 1.8101 - val_acc: 0.3754\n",
      "Epoch 67/100\n",
      " - 2s - loss: 1.5648 - acc: 0.4427 - val_loss: 1.8039 - val_acc: 0.3745\n",
      "Epoch 68/100\n",
      " - 3s - loss: 1.5624 - acc: 0.4421 - val_loss: 1.8017 - val_acc: 0.3769\n",
      "Epoch 69/100\n",
      " - 2s - loss: 1.5633 - acc: 0.4439 - val_loss: 1.8035 - val_acc: 0.3792\n",
      "Epoch 70/100\n",
      " - 3s - loss: 1.5593 - acc: 0.4423 - val_loss: 1.7890 - val_acc: 0.3760\n",
      "Epoch 71/100\n",
      " - 3s - loss: 1.5574 - acc: 0.4438 - val_loss: 1.8235 - val_acc: 0.3716\n",
      "Epoch 72/100\n",
      " - 2s - loss: 1.5577 - acc: 0.4451 - val_loss: 1.8155 - val_acc: 0.3706\n",
      "Epoch 73/100\n",
      " - 3s - loss: 1.5535 - acc: 0.4452 - val_loss: 1.7967 - val_acc: 0.3792\n",
      "Epoch 74/100\n",
      " - 2s - loss: 1.5528 - acc: 0.4463 - val_loss: 1.8166 - val_acc: 0.3710\n",
      "Epoch 75/100\n",
      " - 3s - loss: 1.5576 - acc: 0.4442 - val_loss: 1.8037 - val_acc: 0.3765\n",
      "Epoch 76/100\n",
      " - 2s - loss: 1.5450 - acc: 0.4493 - val_loss: 1.8303 - val_acc: 0.3643\n",
      "Epoch 77/100\n",
      " - 3s - loss: 1.5485 - acc: 0.4488 - val_loss: 1.8423 - val_acc: 0.3691\n",
      "Epoch 78/100\n",
      " - 3s - loss: 1.5460 - acc: 0.4478 - val_loss: 1.8115 - val_acc: 0.3721\n",
      "Epoch 79/100\n",
      " - 3s - loss: 1.5468 - acc: 0.4484 - val_loss: 1.8173 - val_acc: 0.3701\n",
      "Epoch 80/100\n",
      " - 3s - loss: 1.5442 - acc: 0.4486 - val_loss: 1.8316 - val_acc: 0.3700\n",
      "Epoch 81/100\n",
      " - 2s - loss: 1.5433 - acc: 0.4487 - val_loss: 1.8104 - val_acc: 0.3815\n",
      "Epoch 82/100\n",
      " - 2s - loss: 1.5387 - acc: 0.4492 - val_loss: 1.8251 - val_acc: 0.3728\n",
      "Epoch 83/100\n",
      " - 3s - loss: 1.5404 - acc: 0.4492 - val_loss: 1.8436 - val_acc: 0.3634\n",
      "Epoch 84/100\n",
      " - 2s - loss: 1.5357 - acc: 0.4527 - val_loss: 1.8130 - val_acc: 0.3736\n",
      "Epoch 85/100\n",
      " - 3s - loss: 1.5357 - acc: 0.4506 - val_loss: 1.8228 - val_acc: 0.3680\n",
      "Epoch 86/100\n",
      " - 3s - loss: 1.5365 - acc: 0.4514 - val_loss: 1.8225 - val_acc: 0.3728\n",
      "Epoch 87/100\n",
      " - 3s - loss: 1.5317 - acc: 0.4518 - val_loss: 1.8259 - val_acc: 0.3708\n",
      "Epoch 88/100\n",
      " - 3s - loss: 1.5320 - acc: 0.4516 - val_loss: 1.8205 - val_acc: 0.3746\n",
      "Epoch 89/100\n",
      " - 3s - loss: 1.5324 - acc: 0.4520 - val_loss: 1.8525 - val_acc: 0.3714\n",
      "Epoch 90/100\n",
      " - 2s - loss: 1.5263 - acc: 0.4543 - val_loss: 1.8117 - val_acc: 0.3764\n",
      "Epoch 91/100\n",
      " - 6s - loss: 1.5273 - acc: 0.4552 - val_loss: 1.8901 - val_acc: 0.3615\n",
      "Epoch 92/100\n",
      " - 3s - loss: 1.5268 - acc: 0.4563 - val_loss: 1.8571 - val_acc: 0.3632\n",
      "Epoch 93/100\n",
      " - 3s - loss: 1.5252 - acc: 0.4539 - val_loss: 1.8066 - val_acc: 0.3783\n",
      "Epoch 94/100\n",
      " - 2s - loss: 1.5229 - acc: 0.4557 - val_loss: 1.8575 - val_acc: 0.3626\n",
      "Epoch 95/100\n",
      " - 2s - loss: 1.5265 - acc: 0.4537 - val_loss: 1.8487 - val_acc: 0.3700\n",
      "Epoch 96/100\n",
      " - 2s - loss: 1.5220 - acc: 0.4546 - val_loss: 1.8195 - val_acc: 0.3803\n"
     ]
    },
    {
     "name": "stdout",
     "output_type": "stream",
     "text": [
      "Epoch 97/100\n",
      " - 2s - loss: 1.5196 - acc: 0.4571 - val_loss: 1.8160 - val_acc: 0.3819\n",
      "Epoch 98/100\n",
      " - 2s - loss: 1.5221 - acc: 0.4574 - val_loss: 1.8172 - val_acc: 0.3769\n",
      "Epoch 99/100\n",
      " - 3s - loss: 1.5185 - acc: 0.4608 - val_loss: 1.8309 - val_acc: 0.3761\n",
      "Epoch 100/100\n",
      " - 2s - loss: 1.5192 - acc: 0.4583 - val_loss: 1.8366 - val_acc: 0.3766\n"
     ]
    },
    {
     "data": {
      "text/plain": [
       "<tensorflow.python.keras.callbacks.History at 0x137b321a208>"
      ]
     },
     "execution_count": 45,
     "metadata": {},
     "output_type": "execute_result"
    }
   ],
   "source": [
    "model.fit(X_train_gray, Y_train, epochs=100, batch_size=32, verbose=2, validation_split=0.2)"
   ]
  },
  {
   "cell_type": "code",
   "execution_count": 46,
   "metadata": {},
   "outputs": [
    {
     "name": "stdout",
     "output_type": "stream",
     "text": [
      "['loss', 'acc']\n",
      "[3.7451574867248536, 0.1002]\n"
     ]
    }
   ],
   "source": [
    "score = model.evaluate(X_val_gray, Y_test, batch_size=128, verbose=0)\n",
    "#test_loss, test_acc = model.evaluate(X_val_gray, Y_test)\n",
    "\n",
    "\n",
    "\n",
    "print(model.metrics_names)\n",
    "print(score)\n",
    "\n",
    "\n",
    "#print('Precisión Test', test_acc)"
   ]
  },
  {
   "cell_type": "code",
   "execution_count": 115,
   "metadata": {},
   "outputs": [
    {
     "name": "stdout",
     "output_type": "stream",
     "text": [
      "6\n",
      "7\n",
      "--\n",
      "6\n",
      "8\n",
      "--\n",
      "6\n",
      "6\n",
      "--\n"
     ]
    }
   ],
   "source": [
    "\n",
    "def testVector(testVector):\n",
    "    for x in range(10):\n",
    "        if testVector[x]==1:\n",
    "            return x\n",
    "\n",
    "for x in range(17,20):\n",
    "    predicciones=model.predict(X_val_gray)\n",
    "    predicciones[x]\n",
    "    #print(predicciones[x])\n",
    "    a=np.argmax(predicciones[x])\n",
    "    print(a)\n",
    "    print(testVector(Y_test[x]))\n",
    "    print(\"--\")"
   ]
  },
  {
   "cell_type": "markdown",
   "metadata": {},
   "source": [
    "### Conclusiones\n",
    "Como se puede observar en las pruebas anteriores, a pesar de haber utilizado los mismos parámetros en la red para clasificar imágenes, para el primer caso, la red funciona perfectamente prediciendo digitos, sin embargo, para la prediccion de objetos en los cuales tenemos ruido, background, entre otros, la red no da buenos resultados. Para este último caso deberíamos utilizar redes convolucionales para mejorar la predicción."
   ]
  },
  {
   "cell_type": "markdown",
   "metadata": {},
   "source": [
    "## Referencias\n",
    "Tratamiento de imágenes usando ImageDataGenerator en Keras https://enmilocalfunciona.io/tratamiento-de-imagenes-usando-imagedatagenerator-en-keras/\n",
    "Python Machine Learning Tutorial https://www.python-course.eu/neural_network_mnist.php\n",
    "Guide to build an image classifier using CNN with CIFAR-10 dataset https://medium.com/@udolf15/building-a-image-classifier-using-cnn-with-cifar-10-dataset-5682afa4f51\n"
   ]
  },
  {
   "cell_type": "code",
   "execution_count": null,
   "metadata": {},
   "outputs": [],
   "source": []
  }
 ],
 "metadata": {
  "kernelspec": {
   "display_name": "Python 3",
   "language": "python",
   "name": "python3"
  },
  "language_info": {
   "codemirror_mode": {
    "name": "ipython",
    "version": 3
   },
   "file_extension": ".py",
   "mimetype": "text/x-python",
   "name": "python",
   "nbconvert_exporter": "python",
   "pygments_lexer": "ipython3",
   "version": "3.7.3"
  }
 },
 "nbformat": 4,
 "nbformat_minor": 2
}
